{
 "cells": [
  {
   "cell_type": "code",
   "execution_count": 2,
   "metadata": {
    "collapsed": false
   },
   "outputs": [],
   "source": [
    "# Importing all the libraries\n",
    "import pandas as pd\n",
    "import numpy as np\n",
    "\n",
    "from sklearn.pipeline import Pipeline, make_pipeline\n",
    "from sklearn.decomposition import PCA\n",
    "from sklearn.preprocessing import StandardScaler\n",
    "from sklearn.grid_search import GridSearchCV\n",
    "from sklearn.cross_validation import train_test_split\n",
    "from sklearn.metrics import roc_auc_score\n",
    "from time import time\n",
    "\n",
    "\n",
    "from sklearn.naive_bayes import GaussianNB\n",
    "from sklearn.svm import SVC, LinearSVC\n",
    "from sklearn.tree import DecisionTreeClassifier\n",
    "from sklearn.neighbors import KNeighborsClassifier\n",
    "from sklearn.linear_model import LogisticRegression, SGDClassifier\n",
    "from sklearn.discriminant_analysis import LinearDiscriminantAnalysis, QuadraticDiscriminantAnalysis\n",
    "from sklearn.ensemble import ExtraTreesClassifier, RandomForestClassifier\n",
    "from sklearn.ensemble import GradientBoostingClassifier, AdaBoostClassifier\n",
    "\n",
    "\n",
    "\n",
    "\n",
    "from sklearn.feature_selection import VarianceThreshold, SelectKBest, SelectFromModel, SelectPercentile, f_classif, chi2\n",
    "from sklearn.cross_validation import train_test_split, StratifiedKFold, StratifiedShuffleSplit\n",
    "from sklearn.metrics import f1_score, log_loss, roc_auc_score, auc, make_scorer\n",
    "\n",
    "import matplotlib.pyplot as plt\n",
    "import seaborn as sns\n",
    "%matplotlib inline\n",
    "# Set figure size\n",
    "from pylab import rcParams\n",
    "rcParams['figure.figsize'] = 8, 4"
   ]
  },
  {
   "cell_type": "markdown",
   "metadata": {},
   "source": [
    "To start the challenge, I read the dataset into a pandas dataframe, and took a glimpse of the dimensions of the dataset and the actual data."
   ]
  },
  {
   "cell_type": "code",
   "execution_count": 4,
   "metadata": {
    "collapsed": false
   },
   "outputs": [
    {
     "name": "stdout",
     "output_type": "stream",
     "text": [
      "The dimensions of the dataset are: (20000, 303)\n",
      "\n",
      "   id  train  target_eval  var_1  var_2  var_3  var_4  var_5  var_6  var_7  \\\n",
      "0   1      1            1  0.422  0.521  0.493  0.206  0.144  0.203  0.709   \n",
      "1   2      1            0  0.345  0.974  0.330  0.643  0.931  0.664  0.146   \n",
      "2   3      1            1  0.590  0.135  0.046  0.852  0.655  0.765  0.261   \n",
      "3   4      1            1  0.226  0.952  0.773  0.070  0.800  0.320  0.081   \n",
      "4   5      1            0  0.250  0.698  0.781  0.060  0.427  0.096  0.176   \n",
      "\n",
      "    ...     var_291  var_292  var_293  var_294  var_295  var_296  var_297  \\\n",
      "0   ...       0.188    0.143    0.432    0.872    0.282    0.152    0.878   \n",
      "1   ...       0.164    0.676    0.647    0.437    0.853    0.908    0.141   \n",
      "2   ...       0.147    0.822    0.769    0.743    0.293    0.806    0.610   \n",
      "3   ...       0.155    0.240    0.553    0.102    0.092    0.016    0.785   \n",
      "4   ...       0.699    0.765    0.946    0.112    0.744    0.181    0.861   \n",
      "\n",
      "   var_298  var_299  var_300  \n",
      "0    0.750    0.670    0.358  \n",
      "1    0.705    0.974    0.240  \n",
      "2    0.172    0.825    0.330  \n",
      "3    0.320    0.548    0.888  \n",
      "4    0.383    0.570    0.777  \n",
      "\n",
      "[5 rows x 303 columns]\n"
     ]
    }
   ],
   "source": [
    "# loading the data\n",
    "data = pd.read_csv('data.csv')\n",
    "\n",
    "print \"The dimensions of the dataset are: {}\\n\".format(data.shape)\n",
    "print data.head()"
   ]
  },
  {
   "cell_type": "markdown",
   "metadata": {},
   "source": [
    "In the next step, I seperated the training and the testing dataset. Later fetched the features and labels from the training data to fit the model. Fetched the required columns to prepare the testing dataset for performing prediction on it."
   ]
  },
  {
   "cell_type": "code",
   "execution_count": 6,
   "metadata": {
    "collapsed": true
   },
   "outputs": [],
   "source": [
    "# Seperating the training and testing data\n",
    "data_train = data[data['train'] == 1]\n",
    "data_test = data[data['train'] == 0]\n",
    "\n",
    "# fetching the features and labels from training data\n",
    "labels = data_train['target_eval']\n",
    "features= data_train.drop(['id','train','target_eval'], axis=1)\n",
    "# Preprocessing testing data set\n",
    "TestIDs = data_test['id']\n",
    "test = data_test.drop(['id','train','target_eval'], axis=1)"
   ]
  },
  {
   "cell_type": "markdown",
   "metadata": {},
   "source": [
    "Before fitting the model, I used training testing split to split the 250 rows of the training dataset keeping the test size of 0.20."
   ]
  },
  {
   "cell_type": "code",
   "execution_count": 7,
   "metadata": {
    "collapsed": false
   },
   "outputs": [],
   "source": [
    "# Performing training testing split in stratified fashion using labels\n",
    "X_train,X_test,y_train,y_test = train_test_split(features,labels,test_size=0.20,random_state=88,stratify=labels)"
   ]
  },
  {
   "cell_type": "markdown",
   "metadata": {},
   "source": [
    "In the next step, I ran an initial check to compare the time taken and roc scores of different estimators.\n",
    "Included different algorithms in this step from the simplest GaussianNB to ensemble methods like AdaBoost,\n",
    "RandomForest, GradientBoosting etc. \n",
    "\n",
    "I also used LinearDiscriminantAnalysis algorithm as it performs both the dimensionality reduction and the classification of data.\n",
    "\n",
    "Besides that, I also wanted to check the performance of logistic regression which is a widely used algorithm for binary classification tasks."
   ]
  },
  {
   "cell_type": "code",
   "execution_count": 8,
   "metadata": {
    "collapsed": false
   },
   "outputs": [
    {
     "name": "stderr",
     "output_type": "stream",
     "text": [
      "/Users/Shruti/anaconda/lib/python2.7/site-packages/sklearn/discriminant_analysis.py:387: UserWarning: Variables are collinear.\n",
      "  warnings.warn(\"Variables are collinear.\")\n",
      "/Users/Shruti/anaconda/lib/python2.7/site-packages/sklearn/discriminant_analysis.py:688: UserWarning: Variables are collinear\n",
      "  warnings.warn(\"Variables are collinear\")\n"
     ]
    },
    {
     "data": {
      "text/plain": [
       "[('LinearDiscriminantAnalysis', ('0.0434939861298secs', 0.85096153846153844)),\n",
       " ('LogisticRegression', ('0.00649189949036secs', 0.76762820512820507)),\n",
       " ('GaussianNB', ('0.00541114807129secs', 0.76442307692307687)),\n",
       " ('KNeighborsClassifier', ('0.00418496131897secs', 0.74599358974358987)),\n",
       " ('GradientBoostingClassifier', ('0.512752771378secs', 0.64423076923076916)),\n",
       " ('AdaBoostClassifier', ('0.381009101868secs', 0.61057692307692313)),\n",
       " ('RandomForestClassifier', ('0.0355911254883secs', 0.52003205128205132)),\n",
       " ('QuadraticDiscriminantAnalysis', ('0.00810599327087secs', 0.4375)),\n",
       " ('DecisionTreeClassifier', ('0.0274131298065secs', 0.41826923076923084))]"
      ]
     },
     "execution_count": 8,
     "metadata": {},
     "output_type": "execute_result"
    }
   ],
   "source": [
    "# Running an initial check to make a choice of the algorithm to work upon.\n",
    "\n",
    "def choose_estimator(scoring='ROC'):\n",
    "    estimators = ['GaussianNB',\n",
    "                  'SVC',\n",
    "                  'LinearSVC',\n",
    "                  'DecisionTreeClassifier',\n",
    "                  'AdaBoostClassifier',\n",
    "                  'RandomForestClassifier',\n",
    "                  'KNeighborsClassifier',\n",
    "                  'SGDClassifier',\n",
    "                  'GradientBoostingClassifier',\n",
    "                  'LogisticRegression',\n",
    "                  'LinearDiscriminantAnalysis',\n",
    "                  'QuadraticDiscriminantAnalysis'\n",
    "                  ]\n",
    "    \n",
    "    TimeNScore={} # Dictionary to store the training time and roc score\n",
    "    for est in estimators:\n",
    "        clf = eval(est + '()')\n",
    "        start_time = time()\n",
    "        clf.fit(X_train,y_train)\n",
    "        end_time = time()\n",
    "        try:\n",
    "            roc_score = roc_auc_score(y_test, clf.predict_proba(X_test)[:,1], average='macro')\n",
    "        except:\n",
    "            continue\n",
    "        TimeNScore[est] = (str(end_time-start_time)+'secs', roc_score)\n",
    "    return TimeNScore\n",
    "\n",
    "output = choose_estimator()\n",
    "\n",
    "# sorting the output by the roc scores i.e the second value in the tuple\n",
    "sorted(output.items(), key = lambda tup: tup[1][1], reverse= True)\n"
   ]
  },
  {
   "cell_type": "markdown",
   "metadata": {},
   "source": [
    "Clearly, LinearDiscriminantAnalysis with ROC of 0.8509 is performing better than other models. And, the reason is that, LDA performs dimensionality reduction before classifying the data.\n",
    "\n",
    "LDA uses supervised techniques to compute the directions (“linear discriminants”) that will represent the axes that maximize the separation between multiple classes. Hence, moving further I tuned the LDA model using GridSearchCV\n",
    "\n"
   ]
  },
  {
   "cell_type": "code",
   "execution_count": 418,
   "metadata": {
    "collapsed": false
   },
   "outputs": [
    {
     "name": "stdout",
     "output_type": "stream",
     "text": [
      "Fitting 3 folds for each of 8 candidates, totalling 24 fits\n",
      "The roc score for LinearDiscriminantAnalysis classifier is : 0.850961538462\n",
      "\n",
      "Best estimator is:\n",
      "Pipeline(steps=[('lineardiscriminantanalysis', LinearDiscriminantAnalysis(n_components=70, priors=None, shrinkage=None,\n",
      "              solver='svd', store_covariance=False, tol=1e-06))])\n"
     ]
    },
    {
     "name": "stderr",
     "output_type": "stream",
     "text": [
      "[Parallel(n_jobs=-1)]: Done  24 out of  24 | elapsed:    0.4s finished\n"
     ]
    }
   ],
   "source": [
    "# Choosing the estimator\n",
    "clf = LinearDiscriminantAnalysis()\n",
    "\n",
    "# make the pipeline\n",
    "pipe = make_pipeline(clf)\n",
    "\n",
    "# Parameters for model optimization\n",
    "params = {\n",
    "    'lineardiscriminantanalysis__solver': ['svd'],\n",
    "    'lineardiscriminantanalysis__store_covariance': [False, True],\n",
    "    'lineardiscriminantanalysis__tol': [0.000001, 0.00001], \n",
    "    'lineardiscriminantanalysis__n_components': [70,100],\n",
    "          } \n",
    "\n",
    "# Implement GridSearch\n",
    "classifier = GridSearchCV(pipe,\n",
    "                   param_grid=params,\n",
    "                   scoring='roc_auc',\n",
    "                   n_jobs=-1,\n",
    "                   verbose=1)\n",
    "\n",
    "\n",
    "# fit the model\n",
    "classifier.fit(X_train,y_train) \n",
    "\n",
    "# ROC score calculation\n",
    "roc_score = roc_auc_score(y_test, classifier.predict_proba(X_test)[:,1], average='macro')\n",
    "\n",
    "print \"The roc score for LinearDiscriminantAnalysis classifier is : {}\\n\".format(roc_score)\n",
    "print \"Best estimator is:\\n{}\".format(classifier.best_estimator_)\n",
    "\n",
    "\n",
    "# Perform the predictions on test data set using fitted LDA model\n",
    "prob_lda = classifier.predict_proba(test)[:,1]\n",
    "# Convert the output np array to pd Series\n",
    "prob_lda = pd.Series(prob_lda, index=np.arange(250, 20000))\n",
    "# Combine with the original ID's\n",
    "submission_lda = pd.concat([TestIDs, prob_lda], axis=1)\n",
    "# Write to csv file\n",
    "##submission_lda.to_csv('summission.csv', sep=',', header=('Id','Predicted_Probability'), index=False)"
   ]
  },
  {
   "cell_type": "code",
   "execution_count": 425,
   "metadata": {
    "collapsed": false
   },
   "outputs": [
    {
     "name": "stdout",
     "output_type": "stream",
     "text": [
      "          Id  Predicted_Probability\n",
      "250      251           6.469668e-01\n",
      "251      252           8.601147e-01\n",
      "252      253           9.941716e-01\n",
      "253      254           9.993422e-01\n",
      "254      255           9.952444e-01\n",
      "255      256           7.619077e-01\n",
      "256      257           6.169053e-01\n",
      "257      258           3.999884e-01\n",
      "258      259           2.325321e-01\n",
      "259      260           8.244817e-01\n",
      "260      261           9.964060e-01\n",
      "261      262           9.999997e-01\n",
      "262      263           7.212387e-01\n",
      "263      264           9.999810e-01\n",
      "264      265           7.591927e-05\n",
      "265      266           9.774151e-01\n",
      "266      267           4.200942e-05\n",
      "267      268           9.999995e-01\n",
      "268      269           2.240550e-01\n",
      "269      270           3.127423e-01\n",
      "270      271           1.523804e-01\n",
      "271      272           3.066974e-07\n",
      "272      273           6.308438e-02\n",
      "273      274           8.519651e-01\n",
      "274      275           6.728396e-01\n",
      "275      276           2.498008e-01\n",
      "276      277           8.616113e-01\n",
      "277      278           9.421718e-01\n",
      "278      279           9.991328e-01\n",
      "279      280           3.963344e-04\n",
      "...      ...                    ...\n",
      "19970  19971           8.961741e-01\n",
      "19971  19972           9.999991e-01\n",
      "19972  19973           4.524261e-04\n",
      "19973  19974           9.850313e-01\n",
      "19974  19975           9.587582e-01\n",
      "19975  19976           1.282726e-04\n",
      "19976  19977           2.918244e-08\n",
      "19977  19978           9.906021e-01\n",
      "19978  19979           1.624007e-01\n",
      "19979  19980           9.572931e-01\n",
      "19980  19981           1.967439e-02\n",
      "19981  19982           4.602562e-04\n",
      "19982  19983           9.999875e-01\n",
      "19983  19984           9.999939e-01\n",
      "19984  19985           1.604993e-04\n",
      "19985  19986           1.449912e-04\n",
      "19986  19987           3.624067e-02\n",
      "19987  19988           1.043806e-01\n",
      "19988  19989           7.509402e-01\n",
      "19989  19990           3.305047e-01\n",
      "19990  19991           9.999998e-01\n",
      "19991  19992           9.999876e-01\n",
      "19992  19993           9.901396e-01\n",
      "19993  19994           2.864045e-07\n",
      "19994  19995           1.513601e-02\n",
      "19995  19996           2.417348e-01\n",
      "19996  19997           9.999276e-01\n",
      "19997  19998           9.999987e-01\n",
      "19998  19999           3.939413e-02\n",
      "19999  20000           6.605695e-02\n",
      "\n",
      "[19750 rows x 2 columns]\n"
     ]
    }
   ],
   "source": [
    "submission_lda.columns = ['Id','Predicted_Probability']\n",
    "print submission_lda"
   ]
  },
  {
   "cell_type": "markdown",
   "metadata": {},
   "source": [
    "The best ROC score that I have achieved even after tuning the LDA model was 0.8509. In the initial check for different algorithms, logistic regression came after lineardiscriminantanalysis in terms of ROC score.\n",
    "\n",
    "It is known that traditional tools like logistic regression do not perform very well in the scenarios where the number of variables is more than the number of observations.\n",
    "\n",
    "And given that PCA is a linear transformation technique used for dimensionality reduction like LDA, I fitted a logistic regression model in combination with Principal Component Analysis in the next step.\n",
    "\n",
    "But, before fitting a logistic regression, it was appropriate to find the best principal components. \n",
    "PCA uses unsupervised techniques to find out the principal components that maximize the variance in the dataset.\n"
   ]
  },
  {
   "cell_type": "code",
   "execution_count": 11,
   "metadata": {
    "collapsed": false
   },
   "outputs": [
    {
     "data": {
      "text/plain": [
       "<matplotlib.text.Text at 0x115ce61d0>"
      ]
     },
     "execution_count": 11,
     "metadata": {},
     "output_type": "execute_result"
    },
    {
     "data": {
      "image/png": "[encoded data removed]",
      "text/plain": [
       "<matplotlib.figure.Figure at 0x104739090>"
      ]
     },
     "metadata": {},
     "output_type": "display_data"
    }
   ],
   "source": [
    "# Steps to find the optimal number of principal components.\n",
    "# Scaling the data using standard scaler.\n",
    "scaler = StandardScaler()\n",
    "X_train_scaled = scaler.fit_transform(X_train)\n",
    "\n",
    "# Fitting the pca\n",
    "pca = PCA()\n",
    "pca.fit(X_train_scaled)\n",
    "exp_ratio = pca.explained_variance_ratio_\n",
    "\n",
    "pcomp = np.arange(X_train_scaled.shape[0]) # using the number of rows as no. of principal components\n",
    "\n",
    "# plot the data\n",
    "plt.plot(pcomp, np.cumsum(exp_ratio))\n",
    "plt.xlabel(\"Number of Principal Components\")\n",
    "plt.ylabel(\"Cumulative Sum of Explained Variance\")\n",
    "plt.title(\"Variance Explained by PCA's\")"
   ]
  },
  {
   "cell_type": "markdown",
   "metadata": {},
   "source": [
    "The above graph clearly shows steep increase in the explained variance until 150 PCA's. After that point we start to see saturation in this increment. "
   ]
  },
  {
   "cell_type": "markdown",
   "metadata": {},
   "source": [
    "After getting the notion about the no. of principal components to play with, I fitted a logistic regression after reducing the dimensions to 168 principal components. "
   ]
  },
  {
   "cell_type": "code",
   "execution_count": 16,
   "metadata": {
    "collapsed": false
   },
   "outputs": [
    {
     "data": {
      "text/plain": [
       "Pipeline(steps=[('pca', PCA(copy=True, n_components=168, whiten=False)), ('logistic', LogisticRegression(C=1.0, class_weight=None, dual=False, fit_intercept=True,\n",
       "          intercept_scaling=1, max_iter=100, multi_class='ovr', n_jobs=1,\n",
       "          penalty='l2', random_state=None, solver='liblinear', tol=0.0001,\n",
       "          verbose=0, warm_start=False))])"
      ]
     },
     "execution_count": 16,
     "metadata": {},
     "output_type": "execute_result"
    }
   ],
   "source": [
    "#Fitting a logistic regression in combination with PCA (playing with n_components parameter)\n",
    "\n",
    "# pca = decomposition.PCA(n_components=160)\n",
    "# pca = decomposition.PCA(n_components=165)\n",
    "# pca = decomposition.PCA(n_components=170)\n",
    "\n",
    "pca = PCA(n_components=168)\n",
    "logistic = LogisticRegression()\n",
    "\n",
    "logistic_pipe = Pipeline(steps=[('pca', pca), ('logistic', logistic)])\n",
    "logistic_pipe.fit(X_train,y_train)\n",
    "\n"
   ]
  },
  {
   "cell_type": "code",
   "execution_count": 17,
   "metadata": {
    "collapsed": false
   },
   "outputs": [
    {
     "name": "stdout",
     "output_type": "stream",
     "text": [
      "The roc score for Logistic Regression is : 0.858974358974\n",
      "\n"
     ]
    }
   ],
   "source": [
    "pred = logistic_pipe.predict_proba(X_test)[:,1]\n",
    "score=roc_auc_score(y_test,pred, average='macro')\n",
    "print \"The roc score for Logistic Regression is : {}\\n\".format(score)"
   ]
  },
  {
   "cell_type": "markdown",
   "metadata": {},
   "source": [
    "The best ROC Score (0.8589) that I got from logistic regression was with 168 Principal Components. This value was a little better than the model using LDA for dimensionality reduction. Hence, I am used logistic regression in combination with PCA model to perform probability predictions on testing dataset."
   ]
  },
  {
   "cell_type": "code",
   "execution_count": 18,
   "metadata": {
    "collapsed": false
   },
   "outputs": [],
   "source": [
    "# Performing the predictions on test data set using PCA & Logistic Regression\n",
    "prob_logistic = logistic_pipe.predict_proba(test)[:,1]\n",
    "# Converting the output probabilities from array to series\n",
    "prob_logistic = pd.Series(prob_logistic, index=np.arange(250, 20000))\n",
    "# Combining with the original ID's\n",
    "submission_logistic = pd.concat([TestIDs, prob_logistic], axis=1)\n",
    "# Writing to a csv file\n",
    "submission_logistic.to_csv('summission_logistic.csv', sep=',', header=('Id','Predicted_Probability'), index=False)"
   ]
  },
  {
   "cell_type": "code",
   "execution_count": 19,
   "metadata": {
    "collapsed": false
   },
   "outputs": [
    {
     "name": "stdout",
     "output_type": "stream",
     "text": [
      "          Id  Predicted_Probability\n",
      "250      251               0.813075\n",
      "251      252               0.673837\n",
      "252      253               0.875343\n",
      "253      254               0.950983\n",
      "254      255               0.796062\n",
      "255      256               0.406442\n",
      "256      257               0.196096\n",
      "257      258               0.591553\n",
      "258      259               0.961254\n",
      "259      260               0.009411\n",
      "260      261               0.919269\n",
      "261      262               0.983925\n",
      "262      263               0.507114\n",
      "263      264               0.769259\n",
      "264      265               0.056260\n",
      "265      266               0.455880\n",
      "266      267               0.472422\n",
      "267      268               0.877461\n",
      "268      269               0.098185\n",
      "269      270               0.859440\n",
      "270      271               0.312292\n",
      "271      272               0.534464\n",
      "272      273               0.397870\n",
      "273      274               0.298579\n",
      "274      275               0.218180\n",
      "275      276               0.106046\n",
      "276      277               0.583485\n",
      "277      278               0.209326\n",
      "278      279               0.821656\n",
      "279      280               0.321643\n",
      "...      ...                    ...\n",
      "19970  19971               0.309732\n",
      "19971  19972               0.801013\n",
      "19972  19973               0.651671\n",
      "19973  19974               0.208274\n",
      "19974  19975               0.526616\n",
      "19975  19976               0.297895\n",
      "19976  19977               0.057118\n",
      "19977  19978               0.148225\n",
      "19978  19979               0.904059\n",
      "19979  19980               0.965372\n",
      "19980  19981               0.719751\n",
      "19981  19982               0.542917\n",
      "19982  19983               0.771248\n",
      "19983  19984               0.690609\n",
      "19984  19985               0.020280\n",
      "19985  19986               0.216031\n",
      "19986  19987               0.400082\n",
      "19987  19988               0.775275\n",
      "19988  19989               0.890467\n",
      "19989  19990               0.133897\n",
      "19990  19991               0.749008\n",
      "19991  19992               0.949354\n",
      "19992  19993               0.396074\n",
      "19993  19994               0.252167\n",
      "19994  19995               0.930874\n",
      "19995  19996               0.336188\n",
      "19996  19997               0.959442\n",
      "19997  19998               0.991408\n",
      "19998  19999               0.287041\n",
      "19999  20000               0.727159\n",
      "\n",
      "[19750 rows x 2 columns]\n"
     ]
    }
   ],
   "source": [
    "submission_logistic.columns = ['Id','Predicted_Probability']\n",
    "print submission_logistic"
   ]
  },
  {
   "cell_type": "code",
   "execution_count": null,
   "metadata": {
    "collapsed": true
   },
   "outputs": [],
   "source": []
  }
 ],
 "metadata": {
  "anaconda-cloud": {},
  "kernelspec": {
   "display_name": "Python [default]",
   "language": "python",
   "name": "python2"
  },
  "language_info": {
   "codemirror_mode": {
    "name": "ipython",
    "version": 2
   },
   "file_extension": ".py",
   "mimetype": "text/x-python",
   "name": "python",
   "nbconvert_exporter": "python",
   "pygments_lexer": "ipython2",
   "version": "2.7.12"
  }
 },
 "nbformat": 4,
 "nbformat_minor": 1
}
